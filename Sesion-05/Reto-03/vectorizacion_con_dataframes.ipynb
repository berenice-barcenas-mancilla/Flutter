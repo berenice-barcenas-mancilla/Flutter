{
  "cells": [
    {
      "cell_type": "markdown",
      "metadata": {
        "id": "QGiy98lUfHOF"
      },
      "source": [
        "## Reto 3: Agregaciones con `DataFrames`\n",
        "\n",
        "### 1. Objetivos:\n",
        "    - Aplicar agregaciones a `DataFrames` completos para obtener un análisis estadístico\n",
        "\n",
        "---\n",
        "    \n",
        "### 2. Desarrollo:"
      ]
    },
    {
      "cell_type": "markdown",
      "metadata": {
        "id": "RChN0p1yfHOM"
      },
      "source": [
        "#### a) Análisis estadístico con agregaciones\n",
        "\n",
        "Eres el Analista de Datos de EyePoker Inc. Te han pedido que realices ciertas agregaciones con un conjunto de datos para poder realizar un análisis estadístico básico de los datos que hay dentro.\n",
        "\n",
        "El conjunto de datos es el siguiente:"
      ]
    },
    {
      "cell_type": "code",
      "execution_count": 1,
      "metadata": {
        "id": "rk9hNMPBfHOO"
      },
      "outputs": [],
      "source": [
        "import pandas as pd\n",
        "import numpy as np"
      ]
    },
    {
      "cell_type": "code",
      "execution_count": 2,
      "metadata": {
        "id": "_yOzS_jofHOR"
      },
      "outputs": [],
      "source": [
        "datos = {\n",
        "    'producto': [\"Pokemaster\", \"Cegatron\", \"Pikame Mucho\", \"Lazarillo de Tormes\", \"Stevie Wonder\", \"Needle\", \"El AyMeDuele\", \"El Desretinador\", \"Sacamel Ojocles\", \"Desojado\", \"Maribel Buenas Noches\", \"Cíclope\", \"El Cuatro Ojos\"],\n",
        "    'precio': [12000, 5500, 2350, 4800, 8900, 6640, 1280, 1040, 23100, 16700, 15000, 13400, 19600],\n",
        "    'cantidad_en_stock': [34, 54, 36, 78, 56, 12, 34, 4, 0, 18, 45, 23, 5],\n",
        "    'cantidad_vendidos': [120, 34, 59, 9, 15, 51, 103, 72, 39, 23, 10, 62, 59]\n",
        "}\n",
        "\n",
        "df = pd.DataFrame(datos)"
      ]
    },
    {
      "cell_type": "code",
      "execution_count": 3,
      "metadata": {
        "id": "INJF5DSmfHOT"
      },
      "outputs": [],
      "source": [
        "df = pd.DataFrame(datos)\n"
      ]
    },
    {
      "cell_type": "markdown",
      "metadata": {
        "id": "qw6XNhkLfHOU"
      },
      "source": [
        "Tu tarea es muy simple. Usando métodos de agregación, asigna las variables de la siguiente celda con los resultados de agregar nuestro `DataFrame` **por columna** usando cada una de las medidas estadísticas. Algunas de los métodos ya los conoces. Los que no, [puedes encontrarlos en este link](https://www.interactivechaos.com/manual/tutorial-de-pandas/dataframes-metodos-de-agregacion-y-estadistica). Lo que queremos obtener es una `Serie` con los nombres de las columnas como índice y las agregaciones por columna como valores. Una de las columnas que tenemos en el `DataFrame` no se presta para realizar análisis numéricos, elimínala antes de realizar tu análisis y asigna el resultado a la variable `df_droppped`.\n",
        "\n",
        "**Sólo** utiliza funciones de agregación para tu análisis. En este caso no requieres hacer ninguna operación aritmética."
      ]
    },
    {
      "cell_type": "code",
      "execution_count": 4,
      "metadata": {
        "id": "Rp1XQ5HzfHOW",
        "outputId": "5fdcb690-24d5-44e9-ca3a-b6ae6a7014d0",
        "colab": {
          "base_uri": "https://localhost:8080/"
        }
      },
      "outputs": [
        {
          "output_type": "stream",
          "name": "stdout",
          "text": [
            "DataFrame sin columna 'producto':\n",
            "   precio  cantidad_en_stock  cantidad_vendidos\n",
            "0   12000                 34                120\n",
            "1    5500                 54                 34\n",
            "2    2350                 36                 59\n",
            "3    4800                 78                  9\n",
            "4    8900                 56                 15\n",
            "\n",
            "Valores mínimos por columna:\n",
            "precio               1040\n",
            "cantidad_en_stock       0\n",
            "cantidad_vendidos       9\n",
            "dtype: int64\n",
            "\n",
            "Valores máximos por columna:\n",
            "precio               23100\n",
            "cantidad_en_stock       78\n",
            "cantidad_vendidos      120\n",
            "dtype: int64\n",
            "\n",
            "Promedios por columna:\n",
            "precio               10023.846154\n",
            "cantidad_en_stock       30.692308\n",
            "cantidad_vendidos       50.461538\n",
            "dtype: float64\n",
            "\n",
            "Medianas por columna:\n",
            "precio               8900.0\n",
            "cantidad_en_stock      34.0\n",
            "cantidad_vendidos      51.0\n",
            "dtype: float64\n",
            "\n",
            "Desviaciones estándar por columna:\n",
            "precio               7210.205196\n",
            "cantidad_en_stock      23.382275\n",
            "cantidad_vendidos      34.289492\n",
            "dtype: float64\n"
          ]
        }
      ],
      "source": [
        "# Eliminar la columna no numérica (producto)\n",
        "df_dropped = df.drop('producto', axis=1)\n",
        "\n",
        "# Calcular estadísticas por columna\n",
        "mins = df_dropped.min()\n",
        "maxs = df_dropped.max()\n",
        "means = df_dropped.mean()\n",
        "medians = df_dropped.median()\n",
        "stds = df_dropped.std()\n",
        "\n",
        "# Mostrar resultados\n",
        "print(\"DataFrame sin columna 'producto':\")\n",
        "print(df_dropped.head())\n",
        "print(\"\\nValores mínimos por columna:\")\n",
        "print(mins)\n",
        "print(\"\\nValores máximos por columna:\")\n",
        "print(maxs)\n",
        "print(\"\\nPromedios por columna:\")\n",
        "print(means)\n",
        "print(\"\\nMedianas por columna:\")\n",
        "print(medians)\n",
        "print(\"\\nDesviaciones estándar por columna:\")\n",
        "print(stds)"
      ]
    },
    {
      "cell_type": "markdown",
      "metadata": {
        "id": "4TzdfD5ofHOX"
      },
      "source": [
        "Pídele a tu experta la función de verificación `resumen_estadistico` (encontrada en el archivo `helpers.py` de la carpeta donde se encuentra este Reto), pégala debajo y corre la celda para verificar tu resultado:"
      ]
    },
    {
      "cell_type": "code",
      "execution_count": 7,
      "metadata": {
        "id": "Bc7u8R8-fHOX",
        "outputId": "9346af42-095e-4077-95eb-3a136c5fa479",
        "colab": {
          "base_uri": "https://localhost:8080/"
        }
      },
      "outputs": [
        {
          "output_type": "stream",
          "name": "stdout",
          "text": [
            "                    Min    Max  Rango      Promedio  Mediana          Std\n",
            "precio             1040  23100  22060  10023.846154   8900.0  7210.205196\n",
            "cantidad_en_stock     0     78     78     30.692308     34.0    23.382275\n",
            "cantidad_vendidos     9    120    111     50.461538     51.0    34.289492\n"
          ]
        }
      ],
      "source": [
        "\n",
        "def resumen_estadistico(df, df_dropped, mins, maxs, means, medians, stds):\n",
        "\n",
        "    import pandas as pd\n",
        "\n",
        "    error = False\n",
        "\n",
        "    df_dropped_2 = df.drop(columns=['producto'])\n",
        "    if not df_dropped_2.equals(df_dropped):\n",
        "        print(f'La columna no-numérica no fue eliminada correctamente... Por favor inténtalo de nuevo')\n",
        "        error = True\n",
        "\n",
        "    if not df_dropped.min(axis=0).equals(mins):\n",
        "        print(f'El valor mínimo no fue computado adecuadamente... Por favor inténtalo de nuevo')\n",
        "        error = True\n",
        "\n",
        "    if not df_dropped.max(axis=0).equals(maxs):\n",
        "        print(f'El valor máximo no fue computado adecuadamente... Por favor inténtalo de nuevo')\n",
        "        error = True\n",
        "\n",
        "    if not df_dropped.mean(axis=0).equals(means):\n",
        "        print(f'El promedio no fue computado adecuadamente... Por favor inténtalo de nuevo')\n",
        "        error = True\n",
        "\n",
        "    if not df_dropped.median(axis=0).equals(medians):\n",
        "        print(f'La mediana no fue computada adecuadamente... Por favor inténtalo de nuevo')\n",
        "        error = True\n",
        "\n",
        "    if not df_dropped.std(axis=0).equals(stds):\n",
        "        print(f'La desviación estándar no fue computada adecuadamente... Por favor inténtalo de nuevo')\n",
        "        error = True\n",
        "\n",
        "    if not error:\n",
        "        rango = maxs - mins\n",
        "        mins.name = 'Min'\n",
        "        maxs.name = 'Max'\n",
        "        rango.name = 'Rango'\n",
        "        means.name = 'Promedio'\n",
        "        medians.name = 'Mediana'\n",
        "        stds.name = 'Std'\n",
        "\n",
        "        resumen = pd.concat([mins, maxs, rango, means, medians, stds], axis=1)\n",
        "        print(resumen)\n",
        "resumen_estadistico(df, df_dropped, mins, maxs, means, medians, stds)"
      ]
    },
    {
      "cell_type": "markdown",
      "metadata": {
        "id": "AY96qPfZfHOY"
      },
      "source": [
        "<details><summary>Solución</summary>\n",
        "\n",
        "```python\n",
        "df_dropped = df.drop(columns=['producto'])\n",
        "\n",
        "# El valor mínimo de cada columna\n",
        "mins = df_dropped.min(axis=0)\n",
        "\n",
        "# El valor máximo de cada columna\n",
        "maxs = df_dropped.max(axis=0)\n",
        "\n",
        "# El promedio por columna\n",
        "means = df_dropped.mean(axis=0)\n",
        "\n",
        "# La mediana por columna (El valor que se encuentra a la mitad de la secuencia ordenada de valores)\n",
        "medians = df_dropped.median(axis=0)\n",
        "\n",
        "# La desviación estándar por columna\n",
        "stds = df_dropped.std(axis=0)\n",
        "```\n",
        "    \n",
        "</details>"
      ]
    },
    {
      "cell_type": "code",
      "execution_count": null,
      "metadata": {
        "id": "YPdhCMrgfHOY"
      },
      "outputs": [],
      "source": []
    }
  ],
  "metadata": {
    "kernelspec": {
      "display_name": "Python (data_science)",
      "language": "python",
      "name": "data_science"
    },
    "language_info": {
      "codemirror_mode": {
        "name": "ipython",
        "version": 3
      },
      "file_extension": ".py",
      "mimetype": "text/x-python",
      "name": "python",
      "nbconvert_exporter": "python",
      "pygments_lexer": "ipython3",
      "version": "3.8.1"
    },
    "colab": {
      "provenance": []
    }
  },
  "nbformat": 4,
  "nbformat_minor": 0
}